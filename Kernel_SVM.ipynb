{
 "cells": [
  {
   "cell_type": "code",
   "execution_count": 3,
   "metadata": {},
   "outputs": [],
   "source": [
    "import numpy as np\n",
    "import math\n",
    "import matplotlib.pyplot as plt\n",
    "from matplotlib.pyplot import figure\n",
    "from cvxopt import matrix\n",
    "from cvxopt import solvers\n",
    "from numpy.linalg import norm"
   ]
  },
  {
   "cell_type": "code",
   "execution_count": 4,
   "metadata": {
    "scrolled": true
   },
   "outputs": [
    {
     "name": "stdout",
     "output_type": "stream",
     "text": [
      "[[0.60470103 0.82021292 0.74021697 0.37512203 0.867356   0.66763491\n",
      "  0.54805668 0.73936557 0.30571887 0.54199157 0.99226408 0.79367059\n",
      "  0.86017308 0.85736239 0.49349573 0.9616694  0.2361775  0.9849941\n",
      "  0.68902926 0.12654413 0.80592535 0.28421693 0.9366388  0.26546876\n",
      "  0.7461679  0.15709626 0.87728702 0.64444767 0.96728478 0.76828664\n",
      "  0.99878558 0.32116768 0.70029098 0.19930267 0.17350801 0.78529905\n",
      "  0.08134316 0.44649707 0.10740306 0.22511278 0.16129731 0.74865184\n",
      "  0.84646396 0.48630394 0.54030874 0.36425636 0.37608045 0.03057869\n",
      "  0.45719446 0.18837039 0.19375123 0.19259103 0.18236107 0.92727227\n",
      "  0.53504631 0.35737119 0.92393559 0.49597104 0.71374619 0.16281788\n",
      "  0.62434302 0.43412268 0.26675607 0.62941315 0.05186218 0.59650462\n",
      "  0.05517243 0.39068541 0.45636675 0.03220594 0.66739246 0.60756462\n",
      "  0.752984   0.55924007 0.89485784 0.50468789 0.71932117 0.5942252\n",
      "  0.80643285 0.25597195 0.87863282 0.64168908 0.46958186 0.7582554\n",
      "  0.20271546 0.26205643 0.65765689 0.8279775  0.18128282 0.59440043\n",
      "  0.00188793 0.45625323 0.29991134 0.81252358 0.98162914 0.97477684\n",
      "  0.50623035 0.68019298 0.58600667 0.5908642 ]\n",
      " [0.3383719  0.77444843 0.69806283 0.79897135 0.18328355 0.88561362\n",
      "  0.56062566 0.33005333 0.87075396 0.88304534 0.0711065  0.6716995\n",
      "  0.88433105 0.20901541 0.34109793 0.87992847 0.83816985 0.37356744\n",
      "  0.95586442 0.07483449 0.38751117 0.66715643 0.18190587 0.01862581\n",
      "  0.00130528 0.29631723 0.19196763 0.67052623 0.32600622 0.53325038\n",
      "  0.17649684 0.4247329  0.4507587  0.71401263 0.92911735 0.99186671\n",
      "  0.28793283 0.51694726 0.50062911 0.02186377 0.51113901 0.15393297\n",
      "  0.04076284 0.07418163 0.35538555 0.9047771  0.22033405 0.46835535\n",
      "  0.13460178 0.53522991 0.74641884 0.51822647 0.03187525 0.62587354\n",
      "  0.96730123 0.86378871 0.12132692 0.31211042 0.95734042 0.54859734\n",
      "  0.21342118 0.27963271 0.01667275 0.612001   0.50442594 0.14712049\n",
      "  0.78325629 0.41097537 0.3282972  0.93175986 0.17069329 0.08818796\n",
      "  0.82475051 0.47697225 0.88738262 0.5674545  0.58517737 0.18243618\n",
      "  0.56131875 0.14321492 0.66409101 0.71567431 0.42741813 0.2674951\n",
      "  0.09422625 0.56212188 0.10812721 0.57183173 0.42360778 0.25541703\n",
      "  0.2948377  0.29411061 0.25577113 0.5806263  0.73665589 0.37886383\n",
      "  0.77370499 0.90269129 0.95502735 0.03556805]]\n"
     ]
    }
   ],
   "source": [
    "x1 = np.random.uniform(0,1,(1,100))\n",
    "x2 = np.random.uniform(0,1,(1,100))\n",
    "x = np.concatenate((x1,x2),axis=0)\n",
    "print (x)"
   ]
  },
  {
   "cell_type": "code",
   "execution_count": 5,
   "metadata": {},
   "outputs": [],
   "source": [
    "d = np.empty([100,1])\n",
    "positive = []\n",
    "negative = []\n",
    "for i in range(0,100):\n",
    "    if(x[1,i]<((1/5)*np.sin(10*x[0,i])+0.3) or ((x[1,i]-0.8,2)**2 +(x[0,i]-0.5,2)**2)<(0.15*0.15)):\n",
    "        d[i]=1.0\n",
    "        pos.append(x[:,i])\n",
    "    else:\n",
    "        d[i]=-1.0\n",
    "        neg.append(x[:,i])\n",
    "positive = np.asarray(positive)\n",
    "negative = np.asarray(negative)"
   ]
  },
  {
   "cell_type": "markdown",
   "metadata": {},
   "source": [
    "Here, the blue crosses represent d= the  in the sun and mountain region and red"
   ]
  },
  {
   "cell_type": "code",
   "execution_count": 17,
   "metadata": {},
   "outputs": [
    {
     "data": {
      "image/png": "[encoded data removed]",
      "text/plain": [
       "<Figure size 432x288 with 1 Axes>"
      ]
     },
     "metadata": {
      "needs_background": "light"
     },
     "output_type": "display_data"
    }
   ],
   "source": [
    "plt.scatter(positive[:,0], positive[:,1], label= \"cross\", color= \"blue\",  \n",
    "            marker= \"x\", s= 40)\n",
    "plt.scatter(negative[:,0], negative[:,1], label= \"dot\", color= \"red\",  \n",
    "            marker= \".\", s= 10)\n",
    "plt.xlabel('x1')\n",
    "plt.ylabel('x2')\n",
    "plt.show()"
   ]
  },
  {
   "cell_type": "markdown",
   "metadata": {},
   "source": [
    "The data in this problem in not linearly seperable. to seperate classes C1 and C-1 (positive and negative in the code), gaussian kernel seems to be the appropriate choice. Why?"
   ]
  },
  {
   "cell_type": "code",
   "execution_count": 7,
   "metadata": {},
   "outputs": [
    {
     "name": "stdout",
     "output_type": "stream",
     "text": [
      "[[ 1.          0.88842588  0.92879144 ...  0.85037513  0.82670554\n",
      "  -0.95509849]\n",
      " [ 0.88842588  1.          0.99390161 ...  0.98213559  0.95721174\n",
      "  -0.74135734]\n",
      " [ 0.92879144  0.99390161  1.         ...  0.97751872  0.95608755\n",
      "  -0.79405481]\n",
      " ...\n",
      " [ 0.85037513  0.98213559  0.97751872 ...  1.          0.99421175\n",
      "  -0.68390165]\n",
      " [ 0.82670554  0.95721174  0.95608755 ...  0.99421175  1.\n",
      "  -0.65526569]\n",
      " [-0.95509849 -0.74135734 -0.79405481 ... -0.68390165 -0.65526569\n",
      "   1.        ]]\n"
     ]
    }
   ],
   "source": [
    "P = np.zeros([100,100])\n",
    "for i in range(0,100):\n",
    "    for j in range(0,100):\n",
    "        P[i][j] = d[i]*d[j]*math.exp(-((x[0,i]-x[0,j])*(x[0,i]-x[0,j])+((x[1,i]-x[1,j])*(x[1,i]-x[1,j])))/2)\n",
    "print(P)"
   ]
  },
  {
   "cell_type": "code",
   "execution_count": 7,
   "metadata": {},
   "outputs": [
    {
     "name": "stdout",
     "output_type": "stream",
     "text": [
      "[[ 1.          0.88842588  0.92879144 ...  0.85037513  0.82670554\n",
      "  -0.95509849]\n",
      " [ 0.88842588  1.          0.99390161 ...  0.98213559  0.95721174\n",
      "  -0.74135734]\n",
      " [ 0.92879144  0.99390161  1.         ...  0.97751872  0.95608755\n",
      "  -0.79405481]\n",
      " ...\n",
      " [ 0.85037513  0.98213559  0.97751872 ...  1.          0.99421175\n",
      "  -0.68390165]\n",
      " [ 0.82670554  0.95721174  0.95608755 ...  0.99421175  1.\n",
      "  -0.65526569]\n",
      " [-0.95509849 -0.74135734 -0.79405481 ... -0.68390165 -0.65526569\n",
      "   1.        ]]\n"
     ]
    }
   ],
   "source": [
    "P = np.zeros([100,100])\n",
    "for i in range(0,100):\n",
    "    for j in range(0,100):\n",
    "        P[i][j] = d[i]*d[j]*math.exp(-((x[0,i]-x[0,j])*(x[0,i]-x[0,j])+((x[1,i]-x[1,j])*(x[1,i]-x[1,j])))/2)\n",
    "print(P)"
   ]
  },
  {
   "cell_type": "code",
   "execution_count": 8,
   "metadata": {},
   "outputs": [
    {
     "name": "stdout",
     "output_type": "stream",
     "text": [
      "     pcost       dcost       gap    pres   dres\n",
      " 0: -5.1200e+01 -1.6869e+02  4e+02  1e+01  3e+00\n",
      " 1: -2.1235e+02 -3.8138e+02  2e+02  6e+00  2e+00\n",
      " 2: -6.5791e+02 -8.2096e+02  2e+02  4e+00  1e+00\n",
      " 3: -1.7484e+03 -2.0390e+03  3e+02  4e+00  1e+00\n",
      " 4: -7.7421e+03 -8.4158e+03  7e+02  4e+00  1e+00\n",
      " 5: -1.6165e+04 -1.7341e+04  1e+03  4e+00  1e+00\n",
      " 6: -8.2270e+04 -8.8700e+04  6e+03  4e+00  1e+00\n",
      " 7: -1.4143e+05 -1.5303e+05  1e+04  4e+00  1e+00\n",
      " 8: -2.4851e+05 -2.7201e+05  2e+04  4e+00  1e+00\n",
      " 9: -5.2712e+05 -5.9896e+05  7e+04  3e+00  1e+00\n",
      "10: -9.1341e+05 -1.0818e+06  2e+05  3e+00  9e-01\n",
      "11: -1.6424e+06 -2.0358e+06  4e+05  2e+00  5e-01\n",
      "12: -1.9124e+06 -2.0718e+06  2e+05  4e-01  1e-01\n",
      "13: -1.9201e+06 -1.9403e+06  2e+04  1e-02  3e-03\n",
      "14: -1.9307e+06 -1.9313e+06  6e+02  2e-04  7e-05\n",
      "15: -1.9310e+06 -1.9310e+06  7e+00  3e-06  7e-07\n",
      "16: -1.9310e+06 -1.9310e+06  7e-02  3e-08  7e-09\n",
      "Optimal solution found.\n",
      "[ 3.52e-04]\n",
      "[ 2.17e-05]\n",
      "[ 6.78e-05]\n",
      "[ 4.52e+05]\n",
      "[ 2.54e-05]\n",
      "[ 7.07e-05]\n",
      "[ 1.14e-03]\n",
      "[ 2.15e-04]\n",
      "[ 9.18e-05]\n",
      "[ 4.80e+04]\n",
      "[ 1.57e-05]\n",
      "[ 4.10e-05]\n",
      "[ 1.15e-05]\n",
      "[ 3.01e-05]\n",
      "[ 1.07e-04]\n",
      "[ 6.71e-06]\n",
      "[ 3.90e-05]\n",
      "[ 5.31e-05]\n",
      "[ 3.22e-05]\n",
      "[ 1.22e-05]\n",
      "[ 5.09e+05]\n",
      "[ 3.43e-04]\n",
      "[ 2.57e-05]\n",
      "[ 2.55e-05]\n",
      "[ 1.74e-05]\n",
      "[ 4.09e-05]\n",
      "[ 2.65e-05]\n",
      "[ 4.93e-03]\n",
      "[ 1.95e+05]\n",
      "[ 1.28e-04]\n",
      "[ 3.22e-05]\n",
      "[ 2.90e-04]\n",
      "[ 1.56e-03]\n",
      "[ 4.98e-05]\n",
      "[ 1.39e-05]\n",
      "[ 1.30e-05]\n",
      "[ 2.33e-05]\n",
      "[ 2.94e-04]\n",
      "[ 3.19e-04]\n",
      "[ 1.90e-05]\n",
      "[ 3.89e-04]\n",
      "[ 3.29e-05]\n",
      "[ 1.43e-05]\n",
      "[ 7.96e-04]\n",
      "[ 1.32e-04]\n",
      "[ 3.05e-04]\n",
      "[ 4.34e-04]\n",
      "[ 6.27e+04]\n",
      "[ 2.73e+05]\n",
      "[ 2.36e-04]\n",
      "[ 3.91e-05]\n",
      "[ 3.90e-04]\n",
      "[ 1.48e-05]\n",
      "[ 1.64e-05]\n",
      "[ 2.72e-04]\n",
      "[ 3.19e+05]\n",
      "[ 1.80e-05]\n",
      "[ 1.09e-04]\n",
      "[ 2.54e-05]\n",
      "[ 1.39e-04]\n",
      "[ 6.78e-04]\n",
      "[ 1.15e-04]\n",
      "[ 2.56e-05]\n",
      "[ 2.02e+05]\n",
      "[ 1.11e-04]\n",
      "[ 2.44e-04]\n",
      "[ 1.08e-05]\n",
      "[ 1.38e-04]\n",
      "[ 1.02e-04]\n",
      "[ 5.87e-06]\n",
      "[ 7.63e-05]\n",
      "[ 7.65e-05]\n",
      "[ 3.31e-05]\n",
      "[ 2.30e-04]\n",
      "[ 9.34e-06]\n",
      "[ 6.19e+04]\n",
      "[ 1.62e-04]\n",
      "[ 6.53e+05]\n",
      "[ 6.50e-05]\n",
      "[ 4.44e-05]\n",
      "[ 2.03e-05]\n",
      "[ 3.70e+04]\n",
      "[ 1.26e-04]\n",
      "[ 7.04e-05]\n",
      "[ 2.10e-05]\n",
      "[ 3.36e-04]\n",
      "[ 5.08e-05]\n",
      "[ 4.85e-05]\n",
      "[ 1.12e-03]\n",
      "[ 7.81e+05]\n",
      "[ 1.79e-05]\n",
      "[ 1.07e-04]\n",
      "[ 2.69e+05]\n",
      "[ 5.37e-05]\n",
      "[ 8.42e-06]\n",
      "[ 5.87e-05]\n",
      "[ 2.07e-04]\n",
      "[ 5.12e-05]\n",
      "[ 1.32e-04]\n",
      "[ 5.73e-05]\n",
      "\n"
     ]
    }
   ],
   "source": [
    "P = matrix(P)\n",
    "q = matrix(-np.ones([100,1]),(100,1),'d')\n",
    "G = matrix(-np.identity(100))\n",
    "h = matrix(np.zeros([100,1]),(100,1),'d')\n",
    "d2 = np.reshape(d,(1,100))\n",
    "A = matrix(d2)\n",
    "b = matrix(0,(1,1),'d')\n",
    "sol = solvers.qp(P,q,G,h,A,b)\n",
    "print(sol['x'])"
   ]
  },
  {
   "cell_type": "code",
   "execution_count": 18,
   "metadata": {},
   "outputs": [
    {
     "name": "stdout",
     "output_type": "stream",
     "text": [
      "[[451755.93228736]\n",
      " [ 48021.53430381]\n",
      " [509373.52525441]\n",
      " [194625.06140733]\n",
      " [ 62747.80144829]\n",
      " [273362.36876216]\n",
      " [318691.91445979]\n",
      " [202055.78632146]\n",
      " [ 61860.36992534]\n",
      " [653174.08962742]\n",
      " [ 37043.71613254]\n",
      " [780578.55801769]\n",
      " [268640.50531861]]\n"
     ]
    },
    {
     "data": {
      "image/png": "[encoded data removed]",
      "text/plain": [
       "<Figure size 432x288 with 1 Axes>"
      ]
     },
     "metadata": {
      "needs_background": "light"
     },
     "output_type": "display_data"
    }
   ],
   "source": [
    "alpha = np.array(sol['x'])\n",
    "s_v = []\n",
    "d_sv = []\n",
    "sv_a = []\n",
    "for i in range(0,100):\n",
    "    if(alpha[i]>=math.pow(10,3)):\n",
    "        sv_a.append(alpha[i])\n",
    "        s_v.append(x[:,i])\n",
    "        d_sv.append(d[i])\n",
    "s_v = np.asarray(s_v)\n",
    "d_sv = np.asarray(d_sv)\n",
    "sv_a = np.asarray(sv_a)\n",
    "print(sv_a)\n",
    "plt.scatter(s_v[:,0], s_v[:,1], label= \"cross\", color= \"blue\", marker= \"d\", s= 40)\n",
    "plt.scatter(positive[:,0], positive[:,1], label= \"star\", color= \"black\", marker= \"*\", s= 40)\n",
    "plt.scatter(negative[:,0], negative[:,1], label= \"dot\", color= \"red\",  marker= \".\", s= 10)\n",
    "plt.show()"
   ]
  },
  {
   "cell_type": "code",
   "execution_count": 10,
   "metadata": {},
   "outputs": [
    {
     "name": "stdout",
     "output_type": "stream",
     "text": [
      "[-481.16443029]\n"
     ]
    }
   ],
   "source": [
    "theta = 0\n",
    "for i in range(0,len(s_v)):\n",
    "    theta = theta + (sv_a[i]*d_sv[i]*math.exp(-(math.pow(norm(s_v[i]-s_v[1]),2))/2))                     \n",
    "theta = d_sv[1]-theta\n",
    "print(theta)"
   ]
  },
  {
   "cell_type": "code",
   "execution_count": 11,
   "metadata": {
    "scrolled": false
   },
   "outputs": [
    {
     "name": "stdout",
     "output_type": "stream",
     "text": [
      "[[ 0.99996061]\n",
      " [ 1.        ]\n",
      " [ 0.99944488]\n",
      " [-1.00122056]\n",
      " [-1.00135097]\n",
      " [-1.00136274]\n",
      " [-1.00016776]\n",
      " [-0.99985614]\n",
      " [-0.99989745]\n",
      " [ 0.99891363]\n",
      " [-0.99983711]\n",
      " [-1.00076042]\n",
      " [ 0.99893776]]\n"
     ]
    }
   ],
   "source": [
    "w = np.zeros([len(s_v),1]) \n",
    "gx = []\n",
    "for i in range(0,len(s_v)):\n",
    "    for j in range(0,len(s_v)):\n",
    "        w[i] = w[i]+(sv_a[j]*d_sv[j]*math.exp(-(math.pow(norm(s_v[j]-s_v[i]),2))/2))\n",
    "    gx.append(w[i]+theta)\n",
    "gx = np.asarray(gx)\n",
    "print(gx)"
   ]
  },
  {
   "cell_type": "code",
   "execution_count": 12,
   "metadata": {},
   "outputs": [
    {
     "name": "stdout",
     "output_type": "stream",
     "text": [
      "[[ 62.34520979  61.71867121  61.08803046 ... -82.28387004 -83.31512781\n",
      "  -84.35459758]\n",
      " [ 61.34621489  60.72832032  60.1064316  ... -80.50128314 -81.52018598\n",
      "  -82.54739559]\n",
      " [ 60.34659685  59.73725203  59.12402038 ... -78.74155536 -79.74816765\n",
      "  -80.76318036]\n",
      " ...\n",
      " [ 30.94355384  30.47045952  29.99403126 ... -79.67848423 -80.46560486\n",
      "  -81.25903322]\n",
      " [ 30.73419867  30.25767034  29.7777482  ... -81.28478846 -82.07774542\n",
      "  -82.87693502]\n",
      " [ 30.50070801  30.02074511  29.53732892 ... -82.91014353 -83.7088936\n",
      "  -84.51380112]]\n"
     ]
    }
   ],
   "source": [
    "gx1 = np.zeros([100,100])\n",
    "x1 = np.linspace(0,1,100)\n",
    "x2 = np.linspace(0,1,100)\n",
    "for i in range(len(x1)):\n",
    "    for j in range(len(x2)):\n",
    "        temp = 0\n",
    "        for k in range(100):\n",
    "            temp = temp + (alpha[k]*d[k]*math.exp(-(math.pow(norm(x[:,k]-np.asarray([x1[i],x2[j]])),2))/2))\n",
    "        gx1[i][j] = temp + theta\n",
    "print(gx1)           "
   ]
  },
  {
   "cell_type": "code",
   "execution_count": 13,
   "metadata": {},
   "outputs": [
    {
     "name": "stdout",
     "output_type": "stream",
     "text": [
      "[array([0.00502513, 0.46231156]), array([0.02512563, 0.46733668]), array([0.03015075, 0.46733668]), array([0.04522613, 0.47236181]), array([0.05025126, 0.47236181]), array([0.07035176, 0.47738693]), array([0.07537688, 0.47738693]), array([0.08040201, 0.47738693]), array([0.10050251, 0.48241206]), array([0.10552764, 0.48241206]), array([0.11055276, 0.48241206]), array([0.11557789, 0.48241206]), array([0.12060302, 0.48241206]), array([0.17085427, 0.48241206]), array([0.1758794 , 0.48241206]), array([0.18090452, 0.48241206]), array([0.18592965, 0.48241206]), array([0.19095477, 0.48241206]), array([0.1959799 , 0.48241206]), array([0.20100503, 0.47738693]), array([0.20100503, 0.48241206]), array([0.20603015, 0.47738693]), array([0.21105528, 0.47236181]), array([0.21105528, 0.47738693]), array([0.2160804 , 0.47236181]), array([0.2160804 , 0.47738693]), array([0.22110553, 0.46733668]), array([0.22110553, 0.47236181]), array([0.22613065, 0.46733668]), array([0.22613065, 0.47236181]), array([0.23115578, 0.46231156]), array([0.23115578, 0.46733668]), array([0.2361809 , 0.45728643]), array([0.2361809 , 0.46231156]), array([0.24120603, 0.45226131]), array([0.24120603, 0.45728643]), array([0.24623116, 0.44723618]), array([0.24623116, 0.45226131]), array([0.25125628, 0.44221106]), array([0.25125628, 0.44723618]), array([0.25628141, 0.4321608 ]), array([0.25628141, 0.43718593]), array([0.25628141, 0.44221106]), array([0.26130653, 0.42211055]), array([0.26130653, 0.42713568]), array([0.26130653, 0.4321608 ]), array([0.26633166, 0.41708543]), array([0.26633166, 0.42211055]), array([0.27135678, 0.40703518]), array([0.27135678, 0.4120603 ]), array([0.27638191, 0.3919598 ]), array([0.27638191, 0.39698492]), array([0.27638191, 0.40201005]), array([0.28140704, 0.38190955]), array([0.28140704, 0.38693467]), array([0.28140704, 0.3919598 ]), array([0.28643216, 0.3718593 ]), array([0.28643216, 0.37688442]), array([0.29145729, 0.35678392]), array([0.29145729, 0.36180905]), array([0.29145729, 0.36683417]), array([0.29648241, 0.34673367]), array([0.29648241, 0.35175879]), array([0.30150754, 0.33165829]), array([0.30150754, 0.33668342]), array([0.30150754, 0.34170854]), array([0.30653266, 0.32160804]), array([0.30653266, 0.32663317]), array([0.31155779, 0.30653266]), array([0.31155779, 0.31155779]), array([0.31155779, 0.31658291]), array([0.31658291, 0.29648241]), array([0.31658291, 0.30150754]), array([0.31658291, 0.68341709]), array([0.31658291, 0.68844221]), array([0.31658291, 0.69346734]), array([0.31658291, 0.69849246]), array([0.31658291, 0.70351759]), array([0.31658291, 0.70854271]), array([0.31658291, 0.71356784]), array([0.31658291, 0.71859296]), array([0.32160804, 0.28643216]), array([0.32160804, 0.29145729]), array([0.32160804, 0.64824121]), array([0.32160804, 0.65326633]), array([0.32160804, 0.65829146]), array([0.32160804, 0.66331658]), array([0.32160804, 0.66834171]), array([0.32160804, 0.67336683]), array([0.32160804, 0.67839196]), array([0.32160804, 0.68341709]), array([0.32160804, 0.68844221]), array([0.32160804, 0.72864322]), array([0.32160804, 0.73366834]), array([0.32160804, 0.73869347]), array([0.32160804, 0.74371859]), array([0.32160804, 0.74874372]), array([0.32160804, 0.75376884]), array([0.32160804, 0.75879397]), array([0.32663317, 0.27638191]), array([0.32663317, 0.28140704]), array([0.32663317, 0.63316583]), array([0.32663317, 0.63819095]), array([0.32663317, 0.64321608]), array([0.32663317, 0.64824121]), array([0.32663317, 0.65326633]), array([0.32663317, 0.76884422]), array([0.32663317, 0.77386935]), array([0.32663317, 0.77889447]), array([0.32663317, 0.7839196 ]), array([0.33165829, 0.26633166]), array([0.33165829, 0.62311558]), array([0.33165829, 0.6281407 ]), array([0.33165829, 0.63316583]), array([0.33165829, 0.63819095]), array([0.33165829, 0.79396985]), array([0.33165829, 0.79899497]), array([0.33165829, 0.8040201 ]), array([0.33668342, 0.25628141]), array([0.33668342, 0.61809045]), array([0.33668342, 0.62311558]), array([0.33668342, 0.6281407 ]), array([0.33668342, 0.80904523]), array([0.33668342, 0.81407035]), array([0.33668342, 0.81909548]), array([0.34170854, 0.24623116]), array([0.34170854, 0.6080402 ]), array([0.34170854, 0.61306533]), array([0.34170854, 0.61809045]), array([0.34170854, 0.62311558]), array([0.34170854, 0.8241206 ]), array([0.34170854, 0.82914573]), array([0.34673367, 0.2361809 ]), array([0.34673367, 0.60301508]), array([0.34673367, 0.6080402 ]), array([0.34673367, 0.61306533]), array([0.34673367, 0.83919598]), array([0.34673367, 0.84422111]), array([0.35175879, 0.22613065]), array([0.35175879, 0.23115578]), array([0.35175879, 0.59798995]), array([0.35175879, 0.60301508]), array([0.35175879, 0.6080402 ]), array([0.35175879, 0.84924623]), array([0.35175879, 0.85427136]), array([0.35678392, 0.2160804 ]), array([0.35678392, 0.22110553]), array([0.35678392, 0.59798995]), array([0.35678392, 0.60301508]), array([0.35678392, 0.85929648]), array([0.35678392, 0.86432161]), array([0.36180905, 0.21105528]), array([0.36180905, 0.59296482]), array([0.36180905, 0.59798995]), array([0.36180905, 0.60301508]), array([0.36180905, 0.86934673]), array([0.36180905, 0.87437186]), array([0.36683417, 0.20100503]), array([0.36683417, 0.20603015]), array([0.36683417, 0.59296482]), array([0.36683417, 0.59798995]), array([0.36683417, 0.87939698]), array([0.3718593, 0.1959799]), array([0.3718593, 0.5879397]), array([0.3718593 , 0.59296482]), array([0.3718593 , 0.88944724]), array([0.37688442, 0.19095477]), array([0.37688442, 0.5879397 ]), array([0.37688442, 0.59296482]), array([0.37688442, 0.89447236]), array([0.38190955, 0.18090452]), array([0.38190955, 0.18592965]), array([0.38190955, 0.58291457]), array([0.38190955, 0.5879397 ]), array([0.38190955, 0.89949749]), array([0.38693467, 0.1758794 ]), array([0.38693467, 0.58291457]), array([0.38693467, 0.5879397 ]), array([0.38693467, 0.90954774]), array([0.3919598 , 0.17085427]), array([0.3919598 , 0.58291457]), array([0.3919598, 0.5879397]), array([0.3919598 , 0.91457286]), array([0.39698492, 0.16582915]), array([0.39698492, 0.57788945]), array([0.39698492, 0.58291457]), array([0.39698492, 0.91959799]), array([0.40201005, 0.16080402]), array([0.40201005, 0.57788945]), array([0.40201005, 0.58291457]), array([0.40201005, 0.92462312]), array([0.40703518, 0.15577889]), array([0.40703518, 0.57788945]), array([0.40703518, 0.58291457]), array([0.4120603 , 0.15075377]), array([0.4120603 , 0.15577889]), array([0.4120603 , 0.57788945]), array([0.4120603 , 0.58291457]), array([0.4120603 , 0.92964824]), array([0.41708543, 0.15075377]), array([0.41708543, 0.57788945]), array([0.41708543, 0.93467337]), array([0.42211055, 0.14572864]), array([0.42211055, 0.57286432]), array([0.42211055, 0.57788945]), array([0.42211055, 0.93969849]), array([0.42713568, 0.14070352]), array([0.42713568, 0.14572864]), array([0.42713568, 0.57286432]), array([0.42713568, 0.57788945]), array([0.42713568, 0.93969849]), array([0.4321608 , 0.14070352]), array([0.4321608 , 0.57286432]), array([0.4321608 , 0.57788945]), array([0.4321608 , 0.94472362]), array([0.43718593, 0.14070352]), array([0.43718593, 0.57286432]), array([0.43718593, 0.57788945]), array([0.43718593, 0.94472362]), array([0.44221106, 0.13567839]), array([0.44221106, 0.57286432]), array([0.44221106, 0.57788945]), array([0.44221106, 0.94974874]), array([0.44723618, 0.13567839]), array([0.44723618, 0.57286432]), array([0.44723618, 0.94974874]), array([0.45226131, 0.13567839]), array([0.45226131, 0.57286432]), array([0.45728643, 0.13567839]), array([0.45728643, 0.5678392 ]), array([0.45728643, 0.57286432]), array([0.45728643, 0.95477387]), array([0.46231156, 0.13567839]), array([0.46231156, 0.5678392 ]), array([0.46231156, 0.57286432]), array([0.46231156, 0.95477387]), array([0.46733668, 0.13567839]), array([0.46733668, 0.5678392 ]), array([0.46733668, 0.57286432]), array([0.46733668, 0.95477387]), array([0.47236181, 0.13567839]), array([0.47236181, 0.5678392 ]), array([0.47236181, 0.57286432]), array([0.47236181, 0.95477387]), array([0.47738693, 0.13567839]), array([0.47738693, 0.5678392 ]), array([0.47738693, 0.57286432]), array([0.47738693, 0.95477387]), array([0.48241206, 0.13567839]), array([0.48241206, 0.5678392 ]), array([0.48241206, 0.57286432]), array([0.48241206, 0.95477387]), array([0.48743719, 0.13567839]), array([0.48743719, 0.14070352]), array([0.48743719, 0.5678392 ]), array([0.48743719, 0.57286432]), array([0.48743719, 0.95477387]), array([0.49246231, 0.14070352]), array([0.49246231, 0.5678392 ]), array([0.49246231, 0.95477387]), array([0.49748744, 0.14070352]), array([0.49748744, 0.5678392 ]), array([0.49748744, 0.95477387]), array([0.50251256, 0.14572864]), array([0.50251256, 0.5678392 ]), array([0.50251256, 0.95477387]), array([0.50753769, 0.14572864]), array([0.50753769, 0.15075377]), array([0.50753769, 0.5678392 ]), array([0.51256281, 0.15075377]), array([0.51256281, 0.5678392 ]), array([0.51256281, 0.94974874]), array([0.51758794, 0.15577889]), array([0.51758794, 0.5678392 ]), array([0.51758794, 0.94974874]), array([0.52261307, 0.16080402]), array([0.52261307, 0.56281407]), array([0.52261307, 0.5678392 ]), array([0.52763819, 0.16080402]), array([0.52763819, 0.16582915]), array([0.52763819, 0.56281407]), array([0.52763819, 0.5678392 ]), array([0.52763819, 0.94472362]), array([0.53266332, 0.16582915]), array([0.53266332, 0.17085427]), array([0.53266332, 0.56281407]), array([0.53266332, 0.5678392 ]), array([0.53768844, 0.17085427]), array([0.53768844, 0.1758794 ]), array([0.53768844, 0.56281407]), array([0.53768844, 0.5678392 ]), array([0.53768844, 0.93969849]), array([0.54271357, 0.1758794 ]), array([0.54271357, 0.18090452]), array([0.54271357, 0.56281407]), array([0.54271357, 0.5678392 ]), array([0.54271357, 0.93467337]), array([0.54773869, 0.18592965]), array([0.54773869, 0.56281407]), array([0.54773869, 0.5678392 ]), array([0.54773869, 0.93467337]), array([0.55276382, 0.19095477]), array([0.55276382, 0.56281407]), array([0.55276382, 0.5678392 ]), array([0.55276382, 0.92964824]), array([0.55778894, 0.1959799 ]), array([0.55778894, 0.20100503]), array([0.55778894, 0.56281407]), array([0.55778894, 0.5678392 ]), array([0.55778894, 0.57286432]), array([0.55778894, 0.92462312]), array([0.56281407, 0.20100503]), array([0.56281407, 0.20603015]), array([0.56281407, 0.5678392 ]), array([0.56281407, 0.57286432]), array([0.56281407, 0.91959799]), array([0.5678392 , 0.21105528]), array([0.5678392, 0.5678392]), array([0.5678392 , 0.57286432]), array([0.5678392 , 0.91457286]), array([0.57286432, 0.2160804 ]), array([0.57286432, 0.22110553]), array([0.57286432, 0.5678392 ]), array([0.57286432, 0.57286432]), array([0.57286432, 0.90954774]), array([0.57788945, 0.22613065]), array([0.57788945, 0.5678392 ]), array([0.57788945, 0.57286432]), array([0.57788945, 0.90452261]), array([0.58291457, 0.23115578]), array([0.58291457, 0.2361809 ]), array([0.58291457, 0.5678392 ]), array([0.58291457, 0.57286432]), array([0.58291457, 0.57788945]), array([0.58291457, 0.89447236]), array([0.5879397 , 0.24120603]), array([0.5879397 , 0.24623116]), array([0.5879397, 0.5678392]), array([0.5879397 , 0.57286432]), array([0.5879397 , 0.57788945]), array([0.5879397 , 0.88944724]), array([0.59296482, 0.25125628]), array([0.59296482, 0.25628141]), array([0.59296482, 0.57286432]), array([0.59296482, 0.57788945]), array([0.59296482, 0.87939698]), array([0.59296482, 0.88442211]), array([0.59798995, 0.26130653]), array([0.59798995, 0.26633166]), array([0.59798995, 0.57286432]), array([0.59798995, 0.57788945]), array([0.59798995, 0.58291457]), array([0.59798995, 0.87437186]), array([0.60301508, 0.27135678]), array([0.60301508, 0.57286432]), array([0.60301508, 0.57788945]), array([0.60301508, 0.58291457]), array([0.60301508, 0.5879397 ]), array([0.60301508, 0.86432161]), array([0.6080402 , 0.27638191]), array([0.6080402 , 0.28140704]), array([0.6080402 , 0.57788945]), array([0.6080402 , 0.58291457]), array([0.6080402, 0.5879397]), array([0.6080402 , 0.85427136]), array([0.61306533, 0.28643216]), array([0.61306533, 0.29145729]), array([0.61306533, 0.29648241]), array([0.61306533, 0.58291457]), array([0.61306533, 0.5879397 ]), array([0.61306533, 0.59296482]), array([0.61306533, 0.83919598]), array([0.61306533, 0.84422111]), array([0.61809045, 0.29648241]), array([0.61809045, 0.30150754]), array([0.61809045, 0.30653266]), array([0.61809045, 0.5879397 ]), array([0.61809045, 0.59296482]), array([0.61809045, 0.59798995]), array([0.61809045, 0.60301508]), array([0.61809045, 0.82914573]), array([0.61809045, 0.83417085]), array([0.62311558, 0.31155779]), array([0.62311558, 0.31658291]), array([0.62311558, 0.59296482]), array([0.62311558, 0.59798995]), array([0.62311558, 0.60301508]), array([0.62311558, 0.6080402 ]), array([0.62311558, 0.81407035]), array([0.62311558, 0.81909548]), array([0.6281407 , 0.32160804]), array([0.6281407 , 0.32663317]), array([0.6281407 , 0.60301508]), array([0.6281407, 0.6080402]), array([0.6281407 , 0.61306533]), array([0.6281407 , 0.61809045]), array([0.6281407 , 0.62311558]), array([0.6281407 , 0.79396985]), array([0.6281407 , 0.79899497]), array([0.6281407, 0.8040201]), array([0.63316583, 0.33165829]), array([0.63316583, 0.33668342]), array([0.63316583, 0.61306533]), array([0.63316583, 0.61809045]), array([0.63316583, 0.62311558]), array([0.63316583, 0.6281407 ]), array([0.63316583, 0.63316583]), array([0.63316583, 0.63819095]), array([0.63316583, 0.76884422]), array([0.63316583, 0.77386935]), array([0.63316583, 0.77889447]), array([0.63316583, 0.7839196 ]), array([0.63819095, 0.34170854]), array([0.63819095, 0.34673367]), array([0.63819095, 0.35175879]), array([0.63819095, 0.6281407 ]), array([0.63819095, 0.63316583]), array([0.63819095, 0.63819095]), array([0.63819095, 0.64321608]), array([0.63819095, 0.64824121]), array([0.63819095, 0.65326633]), array([0.63819095, 0.65829146]), array([0.63819095, 0.66331658]), array([0.63819095, 0.66834171]), array([0.63819095, 0.73366834]), array([0.63819095, 0.73869347]), array([0.63819095, 0.74371859]), array([0.63819095, 0.74874372]), array([0.63819095, 0.75376884]), array([0.63819095, 0.75879397]), array([0.64321608, 0.35175879]), array([0.64321608, 0.35678392]), array([0.64321608, 0.36180905]), array([0.64321608, 0.65829146]), array([0.64321608, 0.66331658]), array([0.64321608, 0.66834171]), array([0.64321608, 0.67336683]), array([0.64321608, 0.67839196]), array([0.64321608, 0.68341709]), array([0.64321608, 0.68844221]), array([0.64321608, 0.69346734]), array([0.64321608, 0.69849246]), array([0.64321608, 0.70351759]), array([0.64321608, 0.70854271]), array([0.64321608, 0.71356784]), array([0.64321608, 0.71859296]), array([0.64824121, 0.36180905]), array([0.64824121, 0.36683417]), array([0.64824121, 0.3718593 ]), array([0.65326633, 0.3718593 ]), array([0.65326633, 0.37688442]), array([0.65326633, 0.38190955]), array([0.65829146, 0.38190955]), array([0.65829146, 0.38693467]), array([0.65829146, 0.3919598 ]), array([0.66331658, 0.3919598 ]), array([0.66331658, 0.39698492]), array([0.66331658, 0.40201005]), array([0.66834171, 0.40201005]), array([0.66834171, 0.40703518]), array([0.66834171, 0.4120603 ]), array([0.67336683, 0.40703518]), array([0.67336683, 0.4120603 ]), array([0.67336683, 0.41708543]), array([0.67839196, 0.4120603 ]), array([0.67839196, 0.41708543]), array([0.67839196, 0.42211055]), array([0.67839196, 0.42713568]), array([0.68341709, 0.42211055]), array([0.68341709, 0.42713568]), array([0.68341709, 0.4321608 ]), array([0.68844221, 0.42713568]), array([0.68844221, 0.4321608 ]), array([0.69346734, 0.4321608 ]), array([0.69346734, 0.43718593]), array([0.69849246, 0.4321608 ]), array([0.69849246, 0.43718593]), array([0.69849246, 0.44221106]), array([0.70351759, 0.43718593]), array([0.70351759, 0.44221106]), array([0.70854271, 0.43718593]), array([0.70854271, 0.44221106]), array([0.70854271, 0.44723618]), array([0.71356784, 0.44221106]), array([0.71356784, 0.44723618]), array([0.71859296, 0.44221106]), array([0.71859296, 0.44723618]), array([0.72361809, 0.44221106]), array([0.72361809, 0.44723618]), array([0.72864322, 0.44221106]), array([0.72864322, 0.44723618]), array([0.73366834, 0.44221106]), array([0.73366834, 0.44723618]), array([0.73869347, 0.44221106]), array([0.73869347, 0.44723618]), array([0.74371859, 0.44221106]), array([0.74371859, 0.44723618]), array([0.74874372, 0.44221106]), array([0.74874372, 0.44723618]), array([0.75376884, 0.44221106]), array([0.75376884, 0.44723618]), array([0.75879397, 0.44221106]), array([0.7638191 , 0.44221106]), array([0.76884422, 0.44221106]), array([0.77386935, 0.44221106]), array([0.77889447, 0.43718593]), array([0.7839196 , 0.43718593]), array([0.78894472, 0.43718593]), array([0.79396985, 0.4321608 ]), array([0.79899497, 0.4321608 ]), array([0.80904523, 0.42713568]), array([0.81407035, 0.42713568]), array([0.81909548, 0.42211055]), array([0.8241206 , 0.42211055]), array([0.82914573, 0.41708543]), array([0.83417085, 0.41708543]), array([0.84422111, 0.4120603 ]), array([0.85427136, 0.40703518]), array([0.85929648, 0.40201005]), array([0.86934673, 0.39698492]), array([0.87939698, 0.3919598 ]), array([0.88442211, 0.38693467]), array([0.89447236, 0.38190955]), array([0.90954774, 0.3718593 ]), array([0.91457286, 0.36683417]), array([0.92964824, 0.35678392]), array([0.93467337, 0.35175879]), array([0.94974874, 0.34170854]), array([0.95477387, 0.33668342]), array([0.95979899, 0.33165829])]\n"
     ]
    },
    {
     "name": "stdout",
     "output_type": "stream",
     "text": [
      "[array([0.01507538, 0.45728643]), array([0.0201005 , 0.45728643]), array([0.04020101, 0.46231156]), array([0.04522613, 0.46231156]), array([0.05025126, 0.46231156]), array([0.07537688, 0.46733668]), array([0.08040201, 0.46733668]), array([0.08542714, 0.46733668]), array([0.09045226, 0.46733668]), array([0.09547739, 0.46733668]), array([0.10050251, 0.46733668]), array([0.10552764, 0.46733668]), array([0.11055276, 0.46733668]), array([0.11557789, 0.46733668]), array([0.12060302, 0.46733668]), array([0.12562814, 0.46733668]), array([0.13065327, 0.46733668]), array([0.13567839, 0.46733668]), array([0.14070352, 0.46733668]), array([0.14572864, 0.46733668]), array([0.15075377, 0.46733668]), array([0.15577889, 0.46733668]), array([0.16582915, 0.46231156]), array([0.17085427, 0.46231156]), array([0.1758794 , 0.46231156]), array([0.18090452, 0.45728643]), array([0.18592965, 0.45728643]), array([0.19095477, 0.45226131]), array([0.1959799 , 0.45226131]), array([0.20100503, 0.44723618]), array([0.20603015, 0.44221106]), array([0.20603015, 0.44723618]), array([0.21105528, 0.44221106]), array([0.2160804 , 0.43718593]), array([0.22110553, 0.4321608 ]), array([0.22613065, 0.42713568]), array([0.23115578, 0.42211055]), array([0.2361809, 0.4120603]), array([0.2361809 , 0.41708543]), array([0.24120603, 0.40703518]), array([0.24120603, 0.4120603 ]), array([0.24623116, 0.39698492]), array([0.24623116, 0.40201005]), array([0.25125628, 0.3919598 ]), array([0.25125628, 0.39698492]), array([0.25628141, 0.38190955]), array([0.25628141, 0.38693467]), array([0.26130653, 0.3718593 ]), array([0.26130653, 0.37688442]), array([0.26633166, 0.36180905]), array([0.26633166, 0.36683417]), array([0.27135678, 0.35175879]), array([0.27135678, 0.35678392]), array([0.27638191, 0.34170854]), array([0.27638191, 0.34673367]), array([0.28140704, 0.33165829]), array([0.28140704, 0.33668342]), array([0.28643216, 0.32160804]), array([0.29145729, 0.30653266]), array([0.29145729, 0.31155779]), array([0.29648241, 0.29648241]), array([0.29648241, 0.30150754]), array([0.30150754, 0.28643216]), array([0.30150754, 0.29145729]), array([0.30653266, 0.27638191]), array([0.30653266, 0.28140704]), array([0.31155779, 0.26633166]), array([0.31658291, 0.25628141]), array([0.32160804, 0.24623116]), array([0.32663317, 0.2361809 ]), array([0.33165829, 0.22613065]), array([0.33668342, 0.2160804 ]), array([0.33668342, 0.22110553]), array([0.34170854, 0.21105528]), array([0.34170854, 0.72361809]), array([0.34170854, 0.72864322]), array([0.34170854, 0.73366834]), array([0.34170854, 0.73869347]), array([0.34170854, 0.74371859]), array([0.34673367, 0.20100503]), array([0.34673367, 0.69346734]), array([0.34673367, 0.69849246]), array([0.34673367, 0.70351759]), array([0.34673367, 0.70854271]), array([0.34673367, 0.71356784]), array([0.34673367, 0.71859296]), array([0.34673367, 0.72361809]), array([0.34673367, 0.72864322]), array([0.34673367, 0.75376884]), array([0.34673367, 0.75879397]), array([0.34673367, 0.7638191 ]), array([0.34673367, 0.76884422]), array([0.34673367, 0.77386935]), array([0.34673367, 0.77889447]), array([0.34673367, 0.7839196 ]), array([0.35175879, 0.19095477]), array([0.35175879, 0.1959799 ]), array([0.35175879, 0.67839196]), array([0.35175879, 0.68341709]), array([0.35175879, 0.68844221]), array([0.35175879, 0.69346734]), array([0.35175879, 0.79396985]), array([0.35175879, 0.79899497]), array([0.35175879, 0.8040201 ]), array([0.35678392, 0.18592965]), array([0.35678392, 0.66834171]), array([0.35678392, 0.67336683]), array([0.35678392, 0.67839196]), array([0.35678392, 0.81407035]), array([0.35678392, 0.81909548]), array([0.36180905, 0.1758794 ]), array([0.36180905, 0.18090452]), array([0.36180905, 0.65829146]), array([0.36180905, 0.66331658]), array([0.36180905, 0.66834171]), array([0.36180905, 0.82914573]), array([0.36180905, 0.83417085]), array([0.36683417, 0.17085427]), array([0.36683417, 0.65326633]), array([0.36683417, 0.65829146]), array([0.36683417, 0.66331658]), array([0.36683417, 0.83919598]), array([0.36683417, 0.84422111]), array([0.3718593 , 0.16582915]), array([0.3718593 , 0.64824121]), array([0.3718593 , 0.65326633]), array([0.3718593 , 0.85427136]), array([0.37688442, 0.15577889]), array([0.37688442, 0.16080402]), array([0.37688442, 0.64321608]), array([0.37688442, 0.64824121]), array([0.37688442, 0.85929648]), array([0.37688442, 0.86432161]), array([0.38190955, 0.15075377]), array([0.38190955, 0.63819095]), array([0.38190955, 0.64321608]), array([0.38190955, 0.86934673]), array([0.38190955, 0.87437186]), array([0.38693467, 0.14572864]), array([0.38693467, 0.63316583]), array([0.38693467, 0.63819095]), array([0.38693467, 0.87939698]), array([0.3919598 , 0.14070352]), array([0.3919598 , 0.63316583]), array([0.3919598 , 0.63819095]), array([0.3919598 , 0.88442211]), array([0.39698492, 0.13567839]), array([0.39698492, 0.6281407 ]), array([0.39698492, 0.63316583]), array([0.39698492, 0.88944724]), array([0.39698492, 0.89447236]), array([0.40201005, 0.13065327]), array([0.40201005, 0.6281407 ]), array([0.40201005, 0.63316583]), array([0.40201005, 0.89949749]), array([0.40703518, 0.12562814]), array([0.40703518, 0.62311558]), array([0.40703518, 0.6281407 ]), array([0.40703518, 0.90452261]), array([0.4120603 , 0.12562814]), array([0.4120603 , 0.62311558]), array([0.4120603, 0.6281407]), array([0.4120603 , 0.90954774]), array([0.41708543, 0.12060302]), array([0.41708543, 0.61809045]), array([0.41708543, 0.62311558]), array([0.41708543, 0.90954774]), array([0.42211055, 0.11557789]), array([0.42211055, 0.61809045]), array([0.42211055, 0.62311558]), array([0.42211055, 0.91457286]), array([0.42713568, 0.11557789]), array([0.42713568, 0.61809045]), array([0.42713568, 0.62311558]), array([0.42713568, 0.91959799]), array([0.4321608 , 0.11055276]), array([0.4321608 , 0.61809045]), array([0.4321608 , 0.92462312]), array([0.43718593, 0.11055276]), array([0.43718593, 0.61306533]), array([0.43718593, 0.61809045]), array([0.43718593, 0.92462312]), array([0.44221106, 0.11055276]), array([0.44221106, 0.61306533]), array([0.44221106, 0.61809045]), array([0.44221106, 0.92964824]), array([0.44723618, 0.10552764]), array([0.44723618, 0.61306533]), array([0.44723618, 0.61809045]), array([0.44723618, 0.92964824]), array([0.45226131, 0.10552764]), array([0.45226131, 0.61306533]), array([0.45226131, 0.92964824]), array([0.45728643, 0.10552764]), array([0.45728643, 0.61306533]), array([0.45728643, 0.93467337]), array([0.46231156, 0.10552764]), array([0.46231156, 0.6080402 ]), array([0.46231156, 0.61306533]), array([0.46231156, 0.93467337]), array([0.46733668, 0.10552764]), array([0.46733668, 0.6080402 ]), array([0.46733668, 0.61306533]), array([0.46733668, 0.93467337]), array([0.47236181, 0.10552764]), array([0.47236181, 0.6080402 ]), array([0.47236181, 0.61306533]), array([0.47236181, 0.93467337]), array([0.47738693, 0.10552764]), array([0.47738693, 0.6080402 ]), array([0.47738693, 0.61306533]), array([0.47738693, 0.93467337]), array([0.48241206, 0.11055276]), array([0.48241206, 0.6080402 ]), array([0.48241206, 0.61306533]), array([0.48241206, 0.93467337]), array([0.48743719, 0.11055276]), array([0.48743719, 0.6080402 ]), array([0.48743719, 0.61306533]), array([0.48743719, 0.93467337]), array([0.49246231, 0.11055276]), array([0.49246231, 0.6080402 ]), array([0.49246231, 0.61306533]), array([0.49246231, 0.93467337]), array([0.49748744, 0.11557789]), array([0.49748744, 0.6080402 ]), array([0.49748744, 0.61306533]), array([0.49748744, 0.93467337]), array([0.50251256, 0.11557789]), array([0.50251256, 0.6080402 ]), array([0.50251256, 0.61306533]), array([0.50251256, 0.93467337]), array([0.50753769, 0.12060302]), array([0.50753769, 0.6080402 ]), array([0.50753769, 0.61306533]), array([0.51256281, 0.12060302]), array([0.51256281, 0.6080402 ]), array([0.51256281, 0.61306533]), array([0.51256281, 0.92964824]), array([0.51758794, 0.12562814]), array([0.51758794, 0.6080402 ]), array([0.51758794, 0.61306533]), array([0.51758794, 0.92964824]), array([0.52261307, 0.13065327]), array([0.52261307, 0.6080402 ]), array([0.52261307, 0.61306533]), array([0.52261307, 0.92462312]), array([0.52763819, 0.13065327]), array([0.52763819, 0.13567839]), array([0.52763819, 0.6080402 ]), array([0.52763819, 0.61306533]), array([0.52763819, 0.92462312]), array([0.53266332, 0.13567839]), array([0.53266332, 0.61306533]), array([0.53266332, 0.91959799]), array([0.53768844, 0.14070352]), array([0.53768844, 0.61306533]), array([0.53768844, 0.61809045]), array([0.53768844, 0.91457286]), array([0.54271357, 0.14572864]), array([0.54271357, 0.61306533]), array([0.54271357, 0.61809045]), array([0.54271357, 0.91457286]), array([0.54773869, 0.15075377]), array([0.54773869, 0.61306533]), array([0.54773869, 0.61809045]), array([0.54773869, 0.90954774]), array([0.55276382, 0.15577889]), array([0.55276382, 0.16080402]), array([0.55276382, 0.61306533]), array([0.55276382, 0.61809045]), array([0.55276382, 0.62311558]), array([0.55276382, 0.90452261]), array([0.55778894, 0.16582915]), array([0.55778894, 0.61809045]), array([0.55778894, 0.62311558]), array([0.55778894, 0.89949749]), array([0.56281407, 0.17085427]), array([0.56281407, 0.61809045]), array([0.56281407, 0.62311558]), array([0.56281407, 0.89447236]), array([0.5678392, 0.1758794]), array([0.5678392 , 0.62311558]), array([0.5678392, 0.6281407]), array([0.5678392 , 0.88442211]), array([0.5678392 , 0.88944724]), array([0.57286432, 0.18090452]), array([0.57286432, 0.18592965]), array([0.57286432, 0.62311558]), array([0.57286432, 0.6281407 ]), array([0.57286432, 0.63316583]), array([0.57286432, 0.87939698]), array([0.57788945, 0.19095477]), array([0.57788945, 0.6281407 ]), array([0.57788945, 0.63316583]), array([0.57788945, 0.86934673]), array([0.57788945, 0.87437186]), array([0.58291457, 0.1959799 ]), array([0.58291457, 0.63316583]), array([0.58291457, 0.63819095]), array([0.58291457, 0.86432161]), array([0.5879397 , 0.20603015]), array([0.5879397 , 0.63819095]), array([0.5879397 , 0.64321608]), array([0.5879397 , 0.85427136]), array([0.59296482, 0.21105528]), array([0.59296482, 0.2160804 ]), array([0.59296482, 0.64321608]), array([0.59296482, 0.64824121]), array([0.59296482, 0.65326633]), array([0.59296482, 0.83919598]), array([0.59296482, 0.84422111]), array([0.59798995, 0.22110553]), array([0.59798995, 0.64824121]), array([0.59798995, 0.65326633]), array([0.59798995, 0.65829146]), array([0.59798995, 0.82914573]), array([0.59798995, 0.83417085]), array([0.60301508, 0.22613065]), array([0.60301508, 0.23115578]), array([0.60301508, 0.65829146]), array([0.60301508, 0.66331658]), array([0.60301508, 0.66834171]), array([0.60301508, 0.67336683]), array([0.60301508, 0.80904523]), array([0.60301508, 0.81407035]), array([0.60301508, 0.81909548]), array([0.6080402, 0.2361809]), array([0.6080402 , 0.24120603]), array([0.6080402 , 0.66834171]), array([0.6080402 , 0.67336683]), array([0.6080402 , 0.67839196]), array([0.6080402 , 0.68341709]), array([0.6080402 , 0.68844221]), array([0.6080402 , 0.78894472]), array([0.6080402 , 0.79396985]), array([0.6080402 , 0.79899497]), array([0.6080402, 0.8040201]), array([0.61306533, 0.24623116]), array([0.61306533, 0.68341709]), array([0.61306533, 0.68844221]), array([0.61306533, 0.69346734]), array([0.61306533, 0.69849246]), array([0.61306533, 0.70351759]), array([0.61306533, 0.70854271]), array([0.61306533, 0.71356784]), array([0.61306533, 0.71859296]), array([0.61306533, 0.72361809]), array([0.61306533, 0.74874372]), array([0.61306533, 0.75376884]), array([0.61306533, 0.75879397]), array([0.61306533, 0.7638191 ]), array([0.61306533, 0.76884422]), array([0.61306533, 0.77386935]), array([0.61306533, 0.77889447]), array([0.61306533, 0.7839196 ]), array([0.61809045, 0.25125628]), array([0.61809045, 0.25628141]), array([0.61809045, 0.71859296]), array([0.61809045, 0.72361809]), array([0.61809045, 0.72864322]), array([0.61809045, 0.73366834]), array([0.61809045, 0.73869347]), array([0.61809045, 0.74371859]), array([0.62311558, 0.26130653]), array([0.62311558, 0.26633166]), array([0.6281407 , 0.27135678]), array([0.6281407 , 0.27638191]), array([0.63316583, 0.28140704]), array([0.63316583, 0.28643216]), array([0.63819095, 0.29145729]), array([0.64321608, 0.29648241]), array([0.64321608, 0.30150754]), array([0.64824121, 0.30653266]), array([0.64824121, 0.31155779]), array([0.65326633, 0.31658291]), array([0.65326633, 0.32160804]), array([0.65829146, 0.32663317]), array([0.65829146, 0.33165829]), array([0.66331658, 0.33165829]), array([0.66331658, 0.33668342]), array([0.66834171, 0.34170854]), array([0.66834171, 0.34673367]), array([0.67336683, 0.35175879]), array([0.67336683, 0.35678392]), array([0.67839196, 0.35678392]), array([0.67839196, 0.36180905]), array([0.68341709, 0.36180905]), array([0.68341709, 0.36683417]), array([0.68844221, 0.3718593 ]), array([0.68844221, 0.37688442]), array([0.69346734, 0.37688442]), array([0.69346734, 0.38190955]), array([0.69849246, 0.38190955]), array([0.69849246, 0.38693467]), array([0.70351759, 0.38693467]), array([0.70351759, 0.3919598 ]), array([0.70854271, 0.3919598 ]), array([0.70854271, 0.39698492]), array([0.71356784, 0.39698492]), array([0.71859296, 0.39698492]), array([0.71859296, 0.40201005]), array([0.72361809, 0.40201005]), array([0.72864322, 0.40201005]), array([0.72864322, 0.40703518]), array([0.73366834, 0.40703518]), array([0.73869347, 0.40703518]), array([0.73869347, 0.4120603 ]), array([0.74371859, 0.4120603 ]), array([0.74874372, 0.4120603 ]), array([0.75376884, 0.4120603 ]), array([0.75879397, 0.4120603 ]), array([0.7638191, 0.4120603]), array([0.76884422, 0.4120603 ]), array([0.77386935, 0.4120603 ]), array([0.77889447, 0.4120603 ]), array([0.7839196, 0.4120603]), array([0.78894472, 0.4120603 ]), array([0.79396985, 0.4120603 ]), array([0.8040201 , 0.40703518]), array([0.80904523, 0.40703518]), array([0.81407035, 0.40703518]), array([0.8241206 , 0.40201005]), array([0.82914573, 0.40201005]), array([0.83417085, 0.39698492]), array([0.83919598, 0.39698492]), array([0.84924623, 0.3919598 ]), array([0.85929648, 0.38693467]), array([0.86934673, 0.38190955]), array([0.87939698, 0.37688442]), array([0.88944724, 0.3718593 ]), array([0.89949749, 0.36683417]), array([0.90452261, 0.36180905]), array([0.91457286, 0.35678392]), array([0.91959799, 0.35175879]), array([0.93467337, 0.34170854]), array([0.95477387, 0.32663317]), array([0.95979899, 0.32160804]), array([0.98994975, 0.29648241]), array([0.99497487, 0.29145729]), array([1.        , 0.28643216])]\n",
      "[array([0.00502513, 0.44723618]), array([0.01005025, 0.44723618]), array([0.03517588, 0.45226131]), array([0.04020101, 0.45226131]), array([0.04522613, 0.45226131]), array([0.12562814, 0.45226131]), array([0.13065327, 0.45226131]), array([0.13567839, 0.45226131]), array([0.15075377, 0.44723618]), array([0.15577889, 0.44723618]), array([0.16080402, 0.44221106]), array([0.16582915, 0.44221106]), array([0.1758794 , 0.43718593]), array([0.18592965, 0.4321608 ]), array([0.19095477, 0.42713568]), array([0.1959799 , 0.42211055]), array([0.20100503, 0.42211055]), array([0.20603015, 0.41708543]), array([0.21105528, 0.4120603 ]), array([0.2160804 , 0.40201005]), array([0.2160804 , 0.40703518]), array([0.22110553, 0.39698492]), array([0.22110553, 0.40201005]), array([0.22613065, 0.3919598 ]), array([0.23115578, 0.38693467]), array([0.2361809 , 0.37688442]), array([0.24120603, 0.36683417]), array([0.24120603, 0.3718593 ]), array([0.24623116, 0.36180905]), array([0.25125628, 0.35175879]), array([0.25628141, 0.34170854]), array([0.25628141, 0.34673367]), array([0.26130653, 0.33165829]), array([0.26130653, 0.33668342]), array([0.26633166, 0.32160804]), array([0.26633166, 0.32663317]), array([0.27135678, 0.31155779]), array([0.27135678, 0.31658291]), array([0.27638191, 0.30150754]), array([0.27638191, 0.30653266]), array([0.28140704, 0.29145729]), array([0.28140704, 0.29648241]), array([0.28643216, 0.28140704]), array([0.28643216, 0.28643216]), array([0.29145729, 0.27135678]), array([0.29648241, 0.26130653]), array([0.30150754, 0.25125628]), array([0.30653266, 0.24120603]), array([0.31155779, 0.23115578]), array([0.31658291, 0.22110553]), array([0.32160804, 0.21105528]), array([0.32160804, 0.2160804 ]), array([0.32663317, 0.20603015]), array([0.33165829, 0.1959799 ]), array([0.33668342, 0.18592965]), array([0.34170854, 0.18090452]), array([0.34673367, 0.17085427]), array([0.35175879, 0.16080402]), array([0.35175879, 0.16582915]), array([0.35678392, 0.15577889]), array([0.36180905, 0.15075377]), array([0.36683417, 0.14070352]), array([0.3718593 , 0.13567839]), array([0.3718593 , 0.73366834]), array([0.3718593 , 0.73869347]), array([0.3718593 , 0.74371859]), array([0.3718593 , 0.74874372]), array([0.3718593 , 0.75376884]), array([0.3718593 , 0.75879397]), array([0.3718593, 0.7638191]), array([0.3718593 , 0.76884422]), array([0.3718593 , 0.77386935]), array([0.3718593 , 0.77889447]), array([0.3718593, 0.7839196]), array([0.3718593 , 0.78894472]), array([0.3718593 , 0.79396985]), array([0.37688442, 0.13065327]), array([0.37688442, 0.71356784]), array([0.37688442, 0.71859296]), array([0.37688442, 0.72361809]), array([0.37688442, 0.72864322]), array([0.37688442, 0.73366834]), array([0.37688442, 0.79396985]), array([0.37688442, 0.79899497]), array([0.37688442, 0.8040201 ]), array([0.37688442, 0.80904523]), array([0.37688442, 0.81407035]), array([0.38190955, 0.12562814]), array([0.38190955, 0.70351759]), array([0.38190955, 0.70854271]), array([0.38190955, 0.71356784]), array([0.38190955, 0.71859296]), array([0.38190955, 0.81909548]), array([0.38190955, 0.8241206 ]), array([0.38190955, 0.82914573]), array([0.38693467, 0.12060302]), array([0.38693467, 0.69346734]), array([0.38693467, 0.69849246]), array([0.38693467, 0.70351759]), array([0.38693467, 0.70854271]), array([0.38693467, 0.82914573]), array([0.38693467, 0.83417085]), array([0.38693467, 0.83919598]), array([0.3919598 , 0.11557789]), array([0.3919598 , 0.68844221]), array([0.3919598 , 0.69346734]), array([0.3919598 , 0.69849246]), array([0.3919598 , 0.84422111]), array([0.3919598 , 0.84924623]), array([0.39698492, 0.11055276]), array([0.39698492, 0.68341709]), array([0.39698492, 0.68844221]), array([0.39698492, 0.69346734]), array([0.39698492, 0.85427136]), array([0.39698492, 0.85929648]), array([0.40201005, 0.10552764]), array([0.40201005, 0.67839196]), array([0.40201005, 0.68341709]), array([0.40201005, 0.85929648]), array([0.40201005, 0.86432161]), array([0.40703518, 0.10050251]), array([0.40703518, 0.67336683]), array([0.40703518, 0.67839196]), array([0.40703518, 0.68341709]), array([0.40703518, 0.86934673]), array([0.4120603 , 0.09547739]), array([0.4120603 , 0.67336683]), array([0.4120603 , 0.67839196]), array([0.4120603 , 0.87437186]), array([0.4120603 , 0.87939698]), array([0.41708543, 0.09547739]), array([0.41708543, 0.66834171]), array([0.41708543, 0.67336683]), array([0.41708543, 0.87939698]), array([0.41708543, 0.88442211]), array([0.42211055, 0.09045226]), array([0.42211055, 0.66331658]), array([0.42211055, 0.66834171]), array([0.42211055, 0.88442211]), array([0.42211055, 0.88944724]), array([0.42713568, 0.09045226]), array([0.42713568, 0.66331658]), array([0.42713568, 0.66834171]), array([0.42713568, 0.88944724]), array([0.42713568, 0.89447236]), array([0.4321608 , 0.08542714]), array([0.4321608 , 0.65829146]), array([0.4321608 , 0.66331658]), array([0.4321608 , 0.89447236]), array([0.43718593, 0.08542714]), array([0.43718593, 0.65829146]), array([0.43718593, 0.66331658]), array([0.43718593, 0.89949749]), array([0.44221106, 0.08542714]), array([0.44221106, 0.65829146]), array([0.44221106, 0.66331658]), array([0.44221106, 0.89949749]), array([0.44723618, 0.08040201]), array([0.44723618, 0.65829146]), array([0.44723618, 0.90452261]), array([0.45226131, 0.08040201]), array([0.45226131, 0.65326633]), array([0.45226131, 0.65829146]), array([0.45226131, 0.90452261]), array([0.45728643, 0.08040201]), array([0.45728643, 0.65326633]), array([0.45728643, 0.65829146]), array([0.45728643, 0.90954774]), array([0.46231156, 0.08040201]), array([0.46231156, 0.65326633]), array([0.46231156, 0.65829146]), array([0.46231156, 0.90954774]), array([0.46733668, 0.08040201]), array([0.46733668, 0.65326633]), array([0.46733668, 0.65829146]), array([0.46733668, 0.90954774]), array([0.47236181, 0.08040201]), array([0.47236181, 0.65326633]), array([0.47236181, 0.90954774]), array([0.47738693, 0.08040201]), array([0.47738693, 0.65326633]), array([0.47738693, 0.90954774]), array([0.48241206, 0.08040201]), array([0.48241206, 0.65326633]), array([0.48241206, 0.90954774]), array([0.48743719, 0.08542714]), array([0.48743719, 0.65326633]), array([0.48743719, 0.90954774]), array([0.49246231, 0.08542714]), array([0.49246231, 0.65326633]), array([0.49246231, 0.90954774]), array([0.49748744, 0.08542714]), array([0.49748744, 0.65326633]), array([0.49748744, 0.90954774]), array([0.50251256, 0.09045226]), array([0.50251256, 0.65326633]), array([0.50251256, 0.65829146]), array([0.50251256, 0.90954774]), array([0.50753769, 0.09045226]), array([0.50753769, 0.65326633]), array([0.50753769, 0.65829146]), array([0.50753769, 0.90452261]), array([0.51256281, 0.09547739]), array([0.51256281, 0.65326633]), array([0.51256281, 0.65829146]), array([0.51256281, 0.90452261]), array([0.51758794, 0.10050251]), array([0.51758794, 0.65326633]), array([0.51758794, 0.65829146]), array([0.51758794, 0.89949749]), array([0.51758794, 0.90452261]), array([0.52261307, 0.10050251]), array([0.52261307, 0.65326633]), array([0.52261307, 0.65829146]), array([0.52261307, 0.89949749]), array([0.52763819, 0.10552764]), array([0.52763819, 0.65829146]), array([0.52763819, 0.66331658]), array([0.52763819, 0.89447236]), array([0.53266332, 0.11055276]), array([0.53266332, 0.65829146]), array([0.53266332, 0.66331658]), array([0.53266332, 0.88944724]), array([0.53266332, 0.89447236]), array([0.53768844, 0.11557789]), array([0.53768844, 0.66331658]), array([0.53768844, 0.66834171]), array([0.53768844, 0.88442211]), array([0.53768844, 0.88944724]), array([0.54271357, 0.12060302]), array([0.54271357, 0.66331658]), array([0.54271357, 0.66834171]), array([0.54271357, 0.87939698]), array([0.54271357, 0.88442211]), array([0.54773869, 0.12562814]), array([0.54773869, 0.66834171]), array([0.54773869, 0.67336683]), array([0.54773869, 0.87437186]), array([0.54773869, 0.87939698]), array([0.55276382, 0.13065327]), array([0.55276382, 0.66834171]), array([0.55276382, 0.67336683]), array([0.55276382, 0.67839196]), array([0.55276382, 0.86934673]), array([0.55778894, 0.13567839]), array([0.55778894, 0.67336683]), array([0.55778894, 0.67839196]), array([0.55778894, 0.68341709]), array([0.55778894, 0.85929648]), array([0.55778894, 0.86432161]), array([0.56281407, 0.14070352]), array([0.56281407, 0.67839196]), array([0.56281407, 0.68341709]), array([0.56281407, 0.68844221]), array([0.56281407, 0.85427136]), array([0.56281407, 0.85929648]), array([0.5678392 , 0.14572864]), array([0.5678392 , 0.68341709]), array([0.5678392 , 0.68844221]), array([0.5678392 , 0.69346734]), array([0.5678392 , 0.84422111]), array([0.5678392 , 0.84924623]), array([0.57286432, 0.15075377]), array([0.57286432, 0.15577889]), array([0.57286432, 0.68844221]), array([0.57286432, 0.69346734]), array([0.57286432, 0.69849246]), array([0.57286432, 0.70351759]), array([0.57286432, 0.82914573]), array([0.57286432, 0.83417085]), array([0.57286432, 0.83919598]), array([0.57788945, 0.16080402]), array([0.57788945, 0.69849246]), array([0.57788945, 0.70351759]), array([0.57788945, 0.70854271]), array([0.57788945, 0.71356784]), array([0.57788945, 0.81407035]), array([0.57788945, 0.81909548]), array([0.57788945, 0.8241206 ]), array([0.58291457, 0.16582915]), array([0.58291457, 0.70854271]), array([0.58291457, 0.71356784]), array([0.58291457, 0.71859296]), array([0.58291457, 0.72361809]), array([0.58291457, 0.72864322]), array([0.58291457, 0.73366834]), array([0.58291457, 0.78894472]), array([0.58291457, 0.79396985]), array([0.58291457, 0.79899497]), array([0.58291457, 0.8040201 ]), array([0.58291457, 0.80904523]), array([0.5879397 , 0.17085427]), array([0.5879397, 0.1758794]), array([0.5879397 , 0.72864322]), array([0.5879397 , 0.73366834]), array([0.5879397 , 0.73869347]), array([0.5879397 , 0.74371859]), array([0.5879397 , 0.74874372]), array([0.5879397 , 0.75376884]), array([0.5879397 , 0.75879397]), array([0.5879397, 0.7638191]), array([0.5879397 , 0.76884422]), array([0.5879397 , 0.77386935]), array([0.5879397 , 0.77889447]), array([0.5879397, 0.7839196]), array([0.5879397 , 0.78894472]), array([0.59296482, 0.18090452]), array([0.59798995, 0.18592965]), array([0.60301508, 0.1959799 ]), array([0.6080402 , 0.20100503]), array([0.6080402 , 0.20603015]), array([0.61306533, 0.21105528]), array([0.61809045, 0.2160804 ]), array([0.61809045, 0.22110553]), array([0.62311558, 0.22613065]), array([0.6281407, 0.2361809]), array([0.63316583, 0.24120603]), array([0.63316583, 0.24623116]), array([0.63819095, 0.25125628]), array([0.64321608, 0.26130653]), array([0.64824121, 0.26633166]), array([0.64824121, 0.27135678]), array([0.65326633, 0.27638191]), array([0.65829146, 0.28643216]), array([0.66331658, 0.29145729]), array([0.66331658, 0.29648241]), array([0.66834171, 0.30150754]), array([0.67336683, 0.30653266]), array([0.67336683, 0.31155779]), array([0.67839196, 0.31658291]), array([0.68341709, 0.32160804]), array([0.68341709, 0.32663317]), array([0.68844221, 0.33165829]), array([0.69346734, 0.33668342]), array([0.69849246, 0.34170854]), array([0.70351759, 0.34673367]), array([0.70351759, 0.35175879]), array([0.70854271, 0.35175879]), array([0.70854271, 0.35678392]), array([0.71356784, 0.35678392]), array([0.71356784, 0.36180905]), array([0.71859296, 0.36180905]), array([0.72361809, 0.36683417]), array([0.72864322, 0.3718593 ]), array([0.73366834, 0.3718593 ]), array([0.73366834, 0.37688442]), array([0.73869347, 0.37688442]), array([0.74371859, 0.37688442]), array([0.74371859, 0.38190955]), array([0.74874372, 0.38190955]), array([0.75376884, 0.38190955]), array([0.75879397, 0.38190955]), array([0.75879397, 0.38693467]), array([0.7638191 , 0.38693467]), array([0.76884422, 0.38693467]), array([0.77386935, 0.38693467]), array([0.77889447, 0.38693467]), array([0.7839196 , 0.38693467]), array([0.78894472, 0.38693467]), array([0.79396985, 0.38693467]), array([0.79899497, 0.38693467]), array([0.8040201 , 0.38693467]), array([0.80904523, 0.38693467]), array([0.81407035, 0.38693467]), array([0.81909548, 0.38693467]), array([0.82914573, 0.38190955]), array([0.83417085, 0.38190955]), array([0.84422111, 0.37688442]), array([0.84924623, 0.37688442]), array([0.85929648, 0.3718593 ]), array([0.86432161, 0.3718593 ]), array([0.87437186, 0.36683417]), array([0.88442211, 0.36180905]), array([0.89447236, 0.35678392]), array([0.89949749, 0.35175879]), array([0.90954774, 0.34673367]), array([0.91959799, 0.34170854]), array([0.92462312, 0.33668342]), array([0.93467337, 0.33165829]), array([0.93969849, 0.32663317]), array([0.95477387, 0.31658291]), array([0.95979899, 0.31155779]), array([0.98492462, 0.29145729]), array([0.98994975, 0.28643216]), array([0.99497487, 0.28140704])]\n"
     ]
    }
   ],
   "source": [
    "p = []\n",
    "q = []\n",
    "r = []\n",
    "for i in range(100):\n",
    "    for j in range(100):\n",
    "        if(gx1[i][j]>-1.1 and gx1[i][j]<-0.9):\n",
    "            #print(\"-1\")\n",
    "            p.append(np.asarray([x1[i],x2[j]]))\n",
    "        if(gx1[i][j]>-0.1 and gx1[i][j]<0.1):\n",
    "            #print(\"0\")\n",
    "            q.append(np.asarray([x1[i],x2[j]]))\n",
    "        if(gx1[i][j]>0.9 and gx1[i][j]<1.1):\n",
    "            #print(\"1\")\n",
    "            r.append(np.asarray([x1[i],x2[j]]))\n",
    "print (p)\n",
    "print (q)\n",
    "print (r)\n",
    "\n"
   ]
  },
  {
   "cell_type": "code",
   "execution_count": 15,
   "metadata": {},
   "outputs": [
    {
     "data": {
      "image/png": "[encoded data removed]",
      "text/plain": [
       "<Figure size 432x288 with 1 Axes>"
      ]
     },
     "metadata": {
      "needs_background": "light"
     },
     "output_type": "display_data"
    }
   ],
   "source": [
    "p = np.array(p)\n",
    "q = np.array(q)\n",
    "r = np.array(r)\n",
    "\n",
    "plt.scatter(p[:,0], p[:,1], label= \"hline\", color= \"black\",  marker= \"_\", s= 4)\n",
    "plt.scatter(q[:,0], q[:,1], label= \"hline\", color= \"blue\",  marker= \"_\", s= 4)\n",
    "plt.scatter(r[:,0],r[:,1], label= \"hline\", color= \"red\", marker= \"_\", s= 4)\n",
    "plt.scatter(s_v[:,0], s_v[:,1], label= \"cross\", color= \"blue\",  \n",
    "            marker= \".\", s= 40)\n",
    "plt.scatter(pos[:,0], pos[:,1], label= \"cross\", color= \"red\",  \n",
    "            marker= \".\", s= 40)\n",
    "plt.scatter(neg[:,0], neg[:,1], label= \"dot\", color= \"black\",  \n",
    "            marker= \".\", s= 10)\n",
    "plt.xlabel('x1')\n",
    "plt.ylabel('x2')\n",
    "plt.show()"
   ]
  },
  {
   "cell_type": "markdown",
   "metadata": {},
   "source": []
  }
 ],
 "metadata": {
  "kernelspec": {
   "display_name": "Python 3",
   "language": "python",
   "name": "python3"
  },
  "language_info": {
   "codemirror_mode": {
    "name": "ipython",
    "version": 3
   },
   "file_extension": ".py",
   "mimetype": "text/x-python",
   "name": "python",
   "nbconvert_exporter": "python",
   "pygments_lexer": "ipython3",
   "version": "3.7.1"
  }
 },
 "nbformat": 4,
 "nbformat_minor": 2
}
